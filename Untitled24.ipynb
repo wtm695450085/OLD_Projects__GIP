{
 "cells": [
  {
   "cell_type": "markdown",
   "metadata": {},
   "source": [
    "# stacking\n",
    "\n",
    "https://github.com/dawidkopczyk/blog/blob/master/stacking.py"
   ]
  },
  {
   "cell_type": "code",
   "execution_count": 1,
   "metadata": {},
   "outputs": [],
   "source": [
    "# General\n",
    "import numpy as np\n",
    "\n",
    "# Models\n",
    "from sklearn.linear_model import LogisticRegression\n",
    "from sklearn.ensemble import AdaBoostClassifier, RandomForestClassifier\n",
    "from sklearn.svm import SVC\n",
    "\n",
    "# Utilities\n",
    "from sklearn.datasets import make_classification\n",
    "from sklearn.model_selection import train_test_split, KFold\n",
    "from sklearn.metrics import accuracy_score\n",
    "from copy import copy as make_copy\n",
    "import warnings   \n",
    "\n",
    "warnings.filterwarnings(\"ignore\")"
   ]
  },
  {
   "cell_type": "code",
   "execution_count": 2,
   "metadata": {},
   "outputs": [],
   "source": [
    "#==============================================================================\n",
    "# Generate classification data    \n",
    "#==============================================================================\n",
    "\n",
    "## wygenerowanie danych losowych\n",
    "\n",
    "SEED = 2018\n",
    "\n",
    "X, y = make_classification(n_samples=10000, n_features=40, n_redundant=0,\n",
    "                           n_classes=2, random_state=SEED)\n",
    "\n",
    "X_train, X_test, y_train, y_test = train_test_split(X, y, test_size=0.3,\n",
    "                                                    random_state=SEED)"
   ]
  },
  {
   "cell_type": "code",
   "execution_count": 3,
   "metadata": {},
   "outputs": [
    {
     "data": {
      "text/plain": [
       "array([[-0.09779638,  1.80295592,  0.26160334, ...,  1.37539923,\n",
       "         1.17141929,  0.85439926],\n",
       "       [ 0.28282457, -0.46507091, -1.66940406, ..., -0.08414251,\n",
       "        -1.34857531,  1.08172349],\n",
       "       [-1.08133886,  0.17892878, -1.21800593, ..., -0.98440133,\n",
       "        -0.13006794,  2.18986457],\n",
       "       ...,\n",
       "       [ 0.2033364 ,  0.87823389, -2.31080608, ..., -0.02743414,\n",
       "         0.57767348, -1.71349763],\n",
       "       [-0.86762182,  0.23257691, -2.20504172, ..., -1.15199572,\n",
       "         0.15554737, -0.85592095],\n",
       "       [ 1.1525505 , -0.97694707,  1.39236141, ...,  0.66156597,\n",
       "        -0.89942729, -0.00480537]])"
      ]
     },
     "execution_count": 3,
     "metadata": {},
     "output_type": "execute_result"
    }
   ],
   "source": [
    "X_train"
   ]
  },
  {
   "cell_type": "code",
   "execution_count": 4,
   "metadata": {},
   "outputs": [],
   "source": [
    "#==============================================================================\n",
    "# Define Base (level 0) and Stacking (level 1) estimators\n",
    "#==============================================================================\n",
    "\n",
    "base_clf = [LogisticRegression(), RandomForestClassifier(), ### jakie model chce trenować\n",
    "            AdaBoostClassifier(), SVC(probability=True)]\n",
    "\n",
    "stck_clf = LogisticRegression()  ### układanie w stos odbyw się za pomocą LogisticRegression\n",
    "#stck_clf = RandomForestClassifier()"
   ]
  },
  {
   "cell_type": "markdown",
   "metadata": {},
   "source": [
    "  # <span style=\"color:green\">  Notatki do części 'Evaluate Base estimators separately'"
   ]
  },
  {
   "cell_type": "code",
   "execution_count": 5,
   "metadata": {},
   "outputs": [
    {
     "data": {
      "text/plain": [
       "{'C': 1.0,\n",
       " 'class_weight': None,\n",
       " 'dual': False,\n",
       " 'fit_intercept': True,\n",
       " 'intercept_scaling': 1,\n",
       " 'l1_ratio': None,\n",
       " 'max_iter': 100,\n",
       " 'multi_class': 'auto',\n",
       " 'n_jobs': None,\n",
       " 'penalty': 'l2',\n",
       " 'random_state': None,\n",
       " 'solver': 'lbfgs',\n",
       " 'tol': 0.0001,\n",
       " 'verbose': 0,\n",
       " 'warm_start': False}"
      ]
     },
     "execution_count": 5,
     "metadata": {},
     "output_type": "execute_result"
    }
   ],
   "source": [
    "LogisticRegression().get_params()"
   ]
  },
  {
   "cell_type": "code",
   "execution_count": 6,
   "metadata": {},
   "outputs": [
    {
     "data": {
      "text/plain": [
       "{'C': 1.0,\n",
       " 'class_weight': None,\n",
       " 'dual': False,\n",
       " 'fit_intercept': True,\n",
       " 'intercept_scaling': 1,\n",
       " 'l1_ratio': None,\n",
       " 'max_iter': 100,\n",
       " 'multi_class': 'auto',\n",
       " 'n_jobs': None,\n",
       " 'penalty': 'l2',\n",
       " 'random_state': None,\n",
       " 'solver': 'lbfgs',\n",
       " 'tol': 0.0001,\n",
       " 'verbose': 0,\n",
       " 'warm_start': False}"
      ]
     },
     "execution_count": 6,
     "metadata": {},
     "output_type": "execute_result"
    }
   ],
   "source": [
    "LogisticRegression().get_params()"
   ]
  },
  {
   "cell_type": "code",
   "execution_count": 7,
   "metadata": {},
   "outputs": [
    {
     "data": {
      "text/plain": [
       "LogisticRegression(C=1.0, class_weight=None, dual=False, fit_intercept=True,\n",
       "                   intercept_scaling=1, l1_ratio=None, max_iter=100,\n",
       "                   multi_class='auto', n_jobs=None, penalty='l2',\n",
       "                   random_state=652, solver='lbfgs', tol=0.0007, verbose=0,\n",
       "                   warm_start=False)"
      ]
     },
     "execution_count": 7,
     "metadata": {},
     "output_type": "execute_result"
    }
   ],
   "source": [
    "LogisticRegression(tol=0.0007).set_params(random_state=652)"
   ]
  },
  {
   "cell_type": "code",
   "execution_count": 8,
   "metadata": {},
   "outputs": [
    {
     "name": "stdout",
     "output_type": "stream",
     "text": [
      "LogisticRegression AUC: 95.20%\n",
      "RandomForestClassifier AUC: 96.16%\n",
      "AdaBoostClassifier AUC: 95.40%\n",
      "SVC AUC: 96.16%\n"
     ]
    }
   ],
   "source": [
    "a,b = X_test.shape     #<- ile mamy kolumn\n",
    "\n",
    "\n",
    "#==============================================================================\n",
    "# Evaluate Base estimators separately\n",
    "#==============================================================================\n",
    "## Wstępna ocena bazowych estymatorów (modeli)\n",
    "from sklearn.metrics import roc_auc_score\n",
    "from sklearn.metrics import precision_score\n",
    "from sklearn.metrics import accuracy_score\n",
    "\n",
    "for clf in base_clf:\n",
    "    \n",
    "    # Set seed\n",
    "    if 'kot' in clf.get_params().keys():  # pobierz z modeli, które chce trenować kluczowe hiperparametry \n",
    "        clf.set_params(random_state=SEED)  ## Podaje parametry PODSTAWOWE modelu, doyślne, fabryczne!!\n",
    "                                           ## to znaczy, że jak podam specjalny hiperparament w modelu to będzie on uwzględniony             \n",
    "    \n",
    "    # Fit model\n",
    "    clf.fit(X_train, y_train) # Podstawiam do kolejnego modelu z pętli\n",
    "    \n",
    "    # Predict\n",
    "    y_pred = clf.predict(X_test)   #predykcja kolejnego modelu z pętli\n",
    "    \n",
    "    # Valuation\n",
    "    #acc = accuracy_score(y_test, y_pred)\n",
    "    #pre = precision_score(y_test, y_pred,average = 'macro')\n",
    "    auc = roc_auc_score(y_test, y_pred)\n",
    "    \n",
    "    print('{} AUC: {:.2f}%'.format(clf.__class__.__name__, auc * 100))\n",
    "    "
   ]
  },
  {
   "cell_type": "markdown",
   "metadata": {},
   "source": [
    "# <span style=\"color:green\">  Notatki do części: 'Create Hold Out predictions (meta-features)'\n",
    "\n",
    "Mamy informacje jak każdy model klasyfikuje. Teraz z tych 4 modeli tworzymy meta-model. czyli model stosowy clf. Robi się go tak jak cross-validation przez fałdy."
   ]
  },
  {
   "cell_type": "code",
   "execution_count": 9,
   "metadata": {},
   "outputs": [],
   "source": [
    "#==============================================================================\n",
    "# Create Hold Out predictions (meta-features)\n",
    "#==============================================================================\n",
    "def hold_out_predict(clf, X, y, cv):\n",
    "        \n",
    "    \"\"\"Performing cross validation hold out predictions for stacking\"\"\"\n",
    "    \n",
    "    # USTALA WYMIARY\n",
    "    n_classes = len(np.unique(y)) # Sprawdza jakie są klasy: len(np.unique(y)) = 2\n",
    "    meta_features = np.zeros((X.shape[0], n_classes)) ## BUDUJE SZKIELEK WEKTORA META CECH \n",
    "                                         # Buduje wektor o ilości wierszy 10000 i 2 KOLUMN\n",
    "                                         # składający się z samych zer\n",
    "    n_splits = cv.get_n_splits(X, y)     # Zwraca liczbę iteracji podziału w walidatorze krzyżowym.= 4\n",
    "    \n",
    "    # Loop over folds\n",
    "    print(\"Starting hold out prediction with {} splits for {}.\".format(n_splits, clf.__class__.__name__))\n",
    "    for train_idx, hold_out_idx in cv.split(X, y): \n",
    "        \n",
    "        # Split data\n",
    "        X_train = X[train_idx]                # Podmienia zmienne X_train w pętli\n",
    "        y_train = y[train_idx]                # Podmienia zmienne y_train w pętli\n",
    "        X_hold_out = X[hold_out_idx]\n",
    "        \n",
    "        # Fit estimator to K-1 parts and predict on hold out part\n",
    "        est = make_copy(clf)\n",
    "        est.fit(X_train, y_train)\n",
    "        y_hold_out_pred = est.predict_proba(X_hold_out)\n",
    "        \n",
    "        # Fill in meta features\n",
    "        meta_features[hold_out_idx] = y_hold_out_pred\n",
    "\n",
    "    return meta_features     # meta wymiar to wektor 1000 na 2 kolumny składający się z samych zer"
   ]
  },
  {
   "cell_type": "code",
   "execution_count": 10,
   "metadata": {},
   "outputs": [
    {
     "name": "stdout",
     "output_type": "stream",
     "text": [
      "Starting hold out prediction with 3 splits for LogisticRegression.\n",
      "Starting hold out prediction with 3 splits for RandomForestClassifier.\n",
      "Starting hold out prediction with 3 splits for AdaBoostClassifier.\n",
      "Starting hold out prediction with 3 splits for SVC.\n"
     ]
    }
   ],
   "source": [
    "#==============================================================================\n",
    "# Create meta-features for training data\n",
    "#==============================================================================\n",
    "# Define 4-fold CV     ## można dać dowolną liczbę faud\n",
    "cv = KFold(n_splits=3, random_state=SEED)    ## wpisuje ilości podziałow w cross-validation\n",
    "\n",
    "# Loop over classifier to produce meta features\n",
    "meta_train = []\n",
    "for clf in base_clf:\n",
    "    \n",
    "    # Create hold out predictions for a classifier\n",
    "    meta_train_clf = hold_out_predict(clf, X_train, y_train, cv)\n",
    "    \n",
    "    # Remove redundant column\n",
    "    meta_train_clf = np.delete(meta_train_clf, 0, axis=1).ravel()\n",
    "    \n",
    "    # Gather meta training data\n",
    "    meta_train.append(meta_train_clf)\n",
    "    \n",
    "meta_train = np.array(meta_train).T \n"
   ]
  },
  {
   "cell_type": "code",
   "execution_count": 11,
   "metadata": {},
   "outputs": [],
   "source": [
    "#==============================================================================\n",
    "# Create meta-features for testing data\n",
    "#==============================================================================\n",
    "meta_test = []\n",
    "for clf in base_clf:\n",
    "    \n",
    "    # Create hold out predictions for a classifier\n",
    "    clf.fit(X_train, y_train)\n",
    "    meta_test_clf = clf.predict_proba(X_test)\n",
    "    \n",
    "    # Remove redundant column\n",
    "    meta_test_clf = np.delete(meta_test_clf, 0, axis=1).ravel()\n",
    "    \n",
    "    # Gather meta training data\n",
    "    meta_test.append(meta_test_clf)\n",
    "    \n",
    "meta_test = np.array(meta_test).T "
   ]
  },
  {
   "cell_type": "code",
   "execution_count": 12,
   "metadata": {},
   "outputs": [
    {
     "name": "stdout",
     "output_type": "stream",
     "text": [
      "Stacking LogisticRegression AUC: 96.5314%\n"
     ]
    }
   ],
   "source": [
    "#==============================================================================\n",
    "# Predict on Stacking Classifier\n",
    "#==============================================================================\n",
    "# Set seed\n",
    "if 'random_state' in stck_clf.get_params().keys():\n",
    "    stck_clf.set_params(random_state=SEED)\n",
    "\n",
    "# Optional (Add original features to meta)\n",
    "original_flag = False\n",
    "if original_flag:\n",
    "    meta_train = np.concatenate((meta_train, X_train), axis=1)\n",
    "    meta_test = np.concatenate((meta_test, X_test), axis=1)\n",
    "\n",
    "# Fit model\n",
    "stck_clf.fit(meta_train, y_train)\n",
    "\n",
    "# Predict\n",
    "y_pred = stck_clf.predict(meta_test)\n",
    "\n",
    "# Calculate accuracy\n",
    "acc = accuracy_score(y_test, y_pred)\n",
    "pre = precision_score(y_test, y_pred,average = 'macro')\n",
    "auc = roc_auc_score(y_test, y_pred)\n",
    "\n",
    "print('Stacking {} AUC: {:.4f}%'.format(stck_clf.__class__.__name__, auc * 100))"
   ]
  },
  {
   "cell_type": "code",
   "execution_count": null,
   "metadata": {},
   "outputs": [],
   "source": []
  },
  {
   "cell_type": "code",
   "execution_count": 13,
   "metadata": {},
   "outputs": [],
   "source": [
    "# Classification Assessment\n",
    "def Classification_Assessment(model ,Xtrain, ytrain, Xtest, ytest):\n",
    "    import numpy as np\n",
    "    import matplotlib.pyplot as plt\n",
    "    from sklearn import metrics\n",
    "    from sklearn.metrics import classification_report, confusion_matrix\n",
    "    from sklearn.metrics import confusion_matrix, log_loss, auc, roc_curve, roc_auc_score, recall_score, precision_recall_curve\n",
    "    from sklearn.metrics import make_scorer, precision_score, fbeta_score, f1_score, classification_report\n",
    "    \n",
    "    import scikitplot as skplt\n",
    "    from plot_metric.functions import BinaryClassification\n",
    "    from sklearn.metrics import precision_recall_curve\n",
    "\n",
    "       \n",
    "    print(\"Recall Training data:     \", np.round(recall_score(ytrain, model.predict(Xtrain)), decimals=4))\n",
    "    print(\"Precision Training data:  \", np.round(precision_score(ytrain, model.predict(Xtrain)), decimals=4))\n",
    "    print(\"----------------------------------------------------------------------\")\n",
    "    print(\"Recall Test data:         \", np.round(recall_score(ytest, model.predict(Xtest)), decimals=4)) \n",
    "    print(\"Precision Test data:      \", np.round(precision_score(ytest, model.predict(Xtest)), decimals=4))\n",
    "    print(\"----------------------------------------------------------------------\")\n",
    "    print(\"Confusion Matrix Test data\")\n",
    "    print(confusion_matrix(ytest, model.predict(Xtest)))\n",
    "    print(\"----------------------------------------------------------------------\")\n",
    "    print('Valuation for test data only:')\n",
    "    print(classification_report(ytest, model.predict(Xtest)))\n",
    "    \n",
    "    ## ----------AUC-----------------------------------------\n",
    "     \n",
    "    print('---------------------') \n",
    "    AUC_train_1 = metrics.roc_auc_score(ytrain,model.predict_proba(Xtrain)[:,1])\n",
    "    print('AUC_train: %.3f' % AUC_train_1)\n",
    "    AUC_test_1 = metrics.roc_auc_score(ytest,model.predict_proba(Xtest)[:,1])\n",
    "    print('AUC_test:  %.3f' % AUC_test_1)\n",
    "    print('---------------------')    \n",
    "    \n",
    "    print(\"Accuracy Training data:     \", np.round(accuracy_score(ytrain, model.predict(Xtrain)), decimals=4))\n",
    "    print(\"Accuracy Test data:         \", np.round(accuracy_score(ytest, model.predict(Xtest)), decimals=4)) \n",
    "    print(\"----------------------------------------------------------------------\")\n",
    "    print('Valuation for test data only:')\n",
    "\n",
    "    y_probas1 = model.predict_proba(Xtest)[:,1]\n",
    "    y_probas2 = model.predict_proba(Xtest)\n",
    "\n",
    "### ---plot_roc_curve--------------------------------------------------------\n",
    "    plt.figure(figsize=(13,4))\n",
    "\n",
    "    plt.subplot(1, 2, 1)\n",
    "    bc = BinaryClassification(ytest, y_probas1, labels=[\"Class 1\", \"Class 2\"])\n",
    "    bc.plot_roc_curve() \n",
    "\n",
    "\n",
    "### --------precision_recall_curve------------------------------------------\n",
    "\n",
    "    plt.subplot(1, 2, 2)\n",
    "    precision, recall, thresholds = precision_recall_curve(ytest, y_probas1)\n",
    "\n",
    "    plt.plot(recall, precision, marker='.', label=model)\n",
    "    plt.title('Precision recall curve')\n",
    "    plt.xlabel('Recall')\n",
    "    plt.ylabel('Precision')\n",
    "    plt.legend(loc=(-0.30, -0.6))\n",
    "    plt.show()\n",
    "\n",
    "## ----------plot_roc-----------------------------------------\n",
    "\n",
    "    skplt.metrics.plot_roc(ytest, y_probas2)"
   ]
  },
  {
   "cell_type": "code",
   "execution_count": 16,
   "metadata": {},
   "outputs": [
    {
     "name": "stdout",
     "output_type": "stream",
     "text": [
      "Recall Training data:      0.9478\n",
      "Precision Training data:   0.9719\n",
      "----------------------------------------------------------------------\n",
      "Recall Test data:          0.9579\n",
      "Precision Test data:       0.9722\n",
      "----------------------------------------------------------------------\n",
      "Confusion Matrix Test data\n",
      "[[1463   41]\n",
      " [  63 1433]]\n",
      "----------------------------------------------------------------------\n",
      "Valuation for test data only:\n",
      "              precision    recall  f1-score   support\n",
      "\n",
      "           0       0.96      0.97      0.97      1504\n",
      "           1       0.97      0.96      0.96      1496\n",
      "\n",
      "    accuracy                           0.97      3000\n",
      "   macro avg       0.97      0.97      0.97      3000\n",
      "weighted avg       0.97      0.97      0.97      3000\n",
      "\n",
      "---------------------\n",
      "AUC_train: 0.989\n",
      "AUC_test:  0.990\n",
      "---------------------\n",
      "Accuracy Training data:      0.9601\n",
      "Accuracy Test data:          0.9653\n",
      "----------------------------------------------------------------------\n",
      "Valuation for test data only:\n"
     ]
    },
    {
     "data": {
      "image/png": "[encoded data removed]",
      "text/plain": [
       "<Figure size 936x288 with 2 Axes>"
      ]
     },
     "metadata": {
      "needs_background": "light"
     },
     "output_type": "display_data"
    },
    {
     "data": {
      "image/png": "[encoded data removed]",
      "text/plain": [
       "<Figure size 432x288 with 1 Axes>"
      ]
     },
     "metadata": {},
     "output_type": "display_data"
    }
   ],
   "source": [
    "Classification_Assessment(stck_clf ,meta_train, y_train, meta_test, y_test)"
   ]
  },
  {
   "cell_type": "code",
   "execution_count": 15,
   "metadata": {},
   "outputs": [
    {
     "data": {
      "text/plain": [
       "(3000, 4)"
      ]
     },
     "execution_count": 15,
     "metadata": {},
     "output_type": "execute_result"
    }
   ],
   "source": [
    "meta_test.shape"
   ]
  },
  {
   "cell_type": "code",
   "execution_count": null,
   "metadata": {},
   "outputs": [],
   "source": []
  },
  {
   "cell_type": "code",
   "execution_count": null,
   "metadata": {},
   "outputs": [],
   "source": []
  },
  {
   "cell_type": "code",
   "execution_count": null,
   "metadata": {},
   "outputs": [],
   "source": []
  }
 ],
 "metadata": {
  "kernelspec": {
   "display_name": "Python 3",
   "language": "python",
   "name": "python3"
  },
  "language_info": {
   "codemirror_mode": {
    "name": "ipython",
    "version": 3
   },
   "file_extension": ".py",
   "mimetype": "text/x-python",
   "name": "python",
   "nbconvert_exporter": "python",
   "pygments_lexer": "ipython3",
   "version": "3.7.4"
  }
 },
 "nbformat": 4,
 "nbformat_minor": 2
}
