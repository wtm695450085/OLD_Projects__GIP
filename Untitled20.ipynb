{
 "cells": [
  {
   "cell_type": "code",
   "execution_count": 11,
   "metadata": {},
   "outputs": [],
   "source": [
    "import matplotlib.pyplot as plt\n",
    "\n",
    "class MyDataClass:\n",
    "    def __init__(self):\n",
    "        self.data = [1, 2, 3]\n",
    "        self.time = [3, 2, 1]\n",
    "        # stuff\n",
    "\n",
    "    def plot(self):\n",
    "        plt.plot(self.time, self.data);\n",
    "\n",
    "instance = MyDataClass()\n",
    "instance.plot()"
   ]
  },
  {
   "cell_type": "code",
   "execution_count": 12,
   "metadata": {},
   "outputs": [
    {
     "ename": "NameError",
     "evalue": "name 'plot' is not defined",
     "output_type": "error",
     "traceback": [
      "\u001b[0;31m---------------------------------------------------------------------------\u001b[0m",
      "\u001b[0;31mNameError\u001b[0m                                 Traceback (most recent call last)",
      "\u001b[0;32m<ipython-input-12-3f836e597baf>\u001b[0m in \u001b[0;36m<module>\u001b[0;34m\u001b[0m\n\u001b[0;32m----> 1\u001b[0;31m \u001b[0mplot\u001b[0m\u001b[0;34m\u001b[0m\u001b[0;34m\u001b[0m\u001b[0m\n\u001b[0m",
      "\u001b[0;31mNameError\u001b[0m: name 'plot' is not defined"
     ]
    }
   ],
   "source": [
    "plot"
   ]
  },
  {
   "cell_type": "code",
   "execution_count": null,
   "metadata": {},
   "outputs": [],
   "source": [
    "import matplotlib.pyplot as plt\n",
    "\n",
    "class MyDataClass:\n",
    "    def __init__(self):\n",
    "        self.data = data\n",
    "        self.time = time\n",
    "        # stuff\n",
    "\n",
    "    def plot(self):\n",
    "        plt.plot(self.time, self.data);\n",
    "\n",
    "instance = MyDataClass()\n",
    "instance.plot()"
   ]
  },
  {
   "cell_type": "code",
   "execution_count": null,
   "metadata": {},
   "outputs": [],
   "source": [
    "MyDataClass.plot"
   ]
  },
  {
   "cell_type": "code",
   "execution_count": 17,
   "metadata": {},
   "outputs": [],
   "source": [
    "class Track(object):\n",
    "    def __init__(self,artist,title,album=None):\n",
    "        self.artist = artist\n",
    "        self.title = title\n",
    "        self.album = album\n",
    "\n",
    "    def __str__(self):\n",
    "        return self.title + self.artist + self.album\n",
    "    \n",
    "    def __repr__(self):\n",
    "        return ('Track(artist=%s album=%s title=%s)' \n",
    "                % (repr(self.artist), repr(self.title), repr(self.album)))\n",
    "        return ('Track(artist=%s album=%s title=%s)' \n",
    "                % (repr(self.artist), repr(self.title), repr(self.album)))"
   ]
  },
  {
   "cell_type": "code",
   "execution_count": 19,
   "metadata": {},
   "outputs": [
    {
     "data": {
      "text/plain": [
       "{'artist': 'Kanye West', 'title': 'Roses', 'album': 'Late Registration'}"
      ]
     },
     "execution_count": 19,
     "metadata": {},
     "output_type": "execute_result"
    }
   ],
   "source": [
    "Track('Kanye West','Roses','Late Registration').__dict__"
   ]
  },
  {
   "cell_type": "code",
   "execution_count": 52,
   "metadata": {},
   "outputs": [
    {
     "ename": "NameError",
     "evalue": "name 'kot' is not defined",
     "output_type": "error",
     "traceback": [
      "\u001b[0;31m---------------------------------------------------------------------------\u001b[0m",
      "\u001b[0;31mNameError\u001b[0m                                 Traceback (most recent call last)",
      "\u001b[0;32m<ipython-input-52-a35f79546d6a>\u001b[0m in \u001b[0;36m<module>\u001b[0;34m\u001b[0m\n\u001b[1;32m      7\u001b[0m         \u001b[0mkot\u001b[0m\u001b[0;34m=\u001b[0m\u001b[0mself\u001b[0m\u001b[0;34m.\u001b[0m\u001b[0ma\u001b[0m \u001b[0;34m*\u001b[0m \u001b[0mself\u001b[0m\u001b[0;34m.\u001b[0m\u001b[0mb\u001b[0m\u001b[0;34m\u001b[0m\u001b[0;34m\u001b[0m\u001b[0m\n\u001b[1;32m      8\u001b[0m         \u001b[0;32mreturn\u001b[0m \u001b[0mkot\u001b[0m\u001b[0;34m\u001b[0m\u001b[0;34m\u001b[0m\u001b[0m\n\u001b[0;32m----> 9\u001b[0;31m \u001b[0mprint\u001b[0m\u001b[0;34m(\u001b[0m\u001b[0mkot\u001b[0m\u001b[0;34m)\u001b[0m\u001b[0;34m\u001b[0m\u001b[0;34m\u001b[0m\u001b[0m\n\u001b[0m\u001b[1;32m     10\u001b[0m \u001b[0mprint\u001b[0m\u001b[0;34m(\u001b[0m\u001b[0mkot\u001b[0m\u001b[0;34m)\u001b[0m\u001b[0;34m\u001b[0m\u001b[0;34m\u001b[0m\u001b[0m\n",
      "\u001b[0;31mNameError\u001b[0m: name 'kot' is not defined"
     ]
    }
   ],
   "source": [
    "class Test:  \n",
    "    def __init__(self, a, b):  \n",
    "        self.a = a  \n",
    "        self.b = b  \n",
    "    \n",
    "    def __repr__(self):  \n",
    "        kot=self.a * self.b\n",
    "        return kot\n",
    "print(kot)\n",
    "print(kot)"
   ]
  },
  {
   "cell_type": "code",
   "execution_count": 53,
   "metadata": {},
   "outputs": [
    {
     "name": "stdout",
     "output_type": "stream",
     "text": [
      "<__main__.Person object at 0x7efda55b9cd0>\n",
      "<__main__.Person object at 0x7efda55b9cd0>\n"
     ]
    }
   ],
   "source": [
    "class Person:\n",
    "    name = \"\"\n",
    "    age = 0\n",
    "\n",
    "    def __init__(self, personName, personAge):\n",
    "        self.name = personName\n",
    "        self.age = personAge\n",
    "\n",
    "p = Person('Pankaj', 34)\n",
    "\n",
    "print(p.__str__())\n",
    "print(p.__repr__())"
   ]
  },
  {
   "cell_type": "code",
   "execution_count": 55,
   "metadata": {},
   "outputs": [],
   "source": [
    "class Person:\n",
    "    name = \"\"\n",
    "    age = 0\n",
    "\n",
    "    def __init__(self, personName, personAge):\n",
    "        self.name = personName\n",
    "        self.age = personAge\n",
    "\n",
    "    def __repr__(self):\n",
    "        return {'name':self.name, 'age':self.age}\n",
    "\n",
    "    def __str__(self):\n",
    "        return 'Person(name='+self.name+', age='+str(self.age)+ ')'"
   ]
  },
  {
   "cell_type": "code",
   "execution_count": 59,
   "metadata": {},
   "outputs": [],
   "source": [
    "class Vector:\n",
    "    def __init__(self, a, b):\n",
    "        self.a = a\n",
    "        self.b = b\n",
    "\n",
    "    def __str__(self):\n",
    "        return 'Vector (%d, %d)' % (self.a, self.b)\n",
    "   \n",
    "    def __add__(self,other):\n",
    "        return Vector(self.a + other.a, self.b + other.b)\n",
    "\n"
   ]
  },
  {
   "cell_type": "code",
   "execution_count": 60,
   "metadata": {},
   "outputs": [
    {
     "name": "stdout",
     "output_type": "stream",
     "text": [
      "Vector (7, 8)\n"
     ]
    }
   ],
   "source": [
    "v1 = Vector(2,10)\n",
    "v2 = Vector(5,-2)\n",
    "print( v1 + v2)"
   ]
  },
  {
   "cell_type": "code",
   "execution_count": null,
   "metadata": {},
   "outputs": [],
   "source": []
  }
 ],
 "metadata": {
  "kernelspec": {
   "display_name": "Python 3",
   "language": "python",
   "name": "python3"
  },
  "language_info": {
   "codemirror_mode": {
    "name": "ipython",
    "version": 3
   },
   "file_extension": ".py",
   "mimetype": "text/x-python",
   "name": "python",
   "nbconvert_exporter": "python",
   "pygments_lexer": "ipython3",
   "version": "3.7.4"
  }
 },
 "nbformat": 4,
 "nbformat_minor": 2
}
