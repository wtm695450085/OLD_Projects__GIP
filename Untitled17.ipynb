{
 "cells": [
  {
   "cell_type": "markdown",
   "metadata": {},
   "source": [
    "https://micropyramid.com/blog/understand-self-and-__init__-method-in-python-class/\n",
    "\n",
    "https://towardsdatascience.com/how-to-build-your-own-neural-network-from-scratch-in-python-68998a08e4f6"
   ]
  },
  {
   "cell_type": "code",
   "execution_count": 1,
   "metadata": {},
   "outputs": [],
   "source": [
    "class Car(object):\n",
    "  \"\"\"\n",
    "    blueprint for car\n",
    "  \"\"\"\n",
    "\n",
    "  def __init__(self, model, color, company, speed_limit):\n",
    "    self.color = color\n",
    "    self.company = company\n",
    "    self.speed_limit = speed_limit\n",
    "    self.model = model"
   ]
  },
  {
   "cell_type": "code",
   "execution_count": 2,
   "metadata": {},
   "outputs": [],
   "source": [
    "maruthi_suzuki = Car(\"ertiga\", \"black\", \"suzuki\", 60)\n",
    "audi = Car(\"A6\", \"red\", \"audi\", 80)"
   ]
  },
  {
   "cell_type": "code",
   "execution_count": 3,
   "metadata": {},
   "outputs": [],
   "source": [
    "class Rectangle:\n",
    "    def __init__(self, length, breadth, unit_cost=0):\n",
    "        self.length = length\n",
    "        self.breadth = breadth\n",
    "        self.unit_cost = unit_cost\n",
    "   \n",
    "    def get_perimeter(self):\n",
    "        return 2 * (self.length + self.breadth)\n",
    "   \n",
    "    def get_area(self):\n",
    "        return self.length * self.breadth\n",
    "   \n",
    "    def calculate_cost(self):\n",
    "        area = self.get_area()\n",
    "        return area * self.unit_cost\n"
   ]
  },
  {
   "cell_type": "code",
   "execution_count": 4,
   "metadata": {},
   "outputs": [
    {
     "name": "stdout",
     "output_type": "stream",
     "text": [
      "Area of Rectangle: 19200 cm^2\n",
      "Cost of rectangular field: Rs. 38400000 \n"
     ]
    }
   ],
   "source": [
    "# breadth = 120 cm, length = 160 cm, 1 cm^2 = Rs 2000\n",
    "r = Rectangle(160, 120, 2000)\n",
    "print(\"Area of Rectangle: %s cm^2\" % (r.get_area()))\n",
    "print(\"Cost of rectangular field: Rs. %s \" %(r.calculate_cost()))"
   ]
  },
  {
   "cell_type": "code",
   "execution_count": 5,
   "metadata": {},
   "outputs": [],
   "source": [
    "class stonoga(object):\n",
    "    def _init_ (self,nogi_lewe, nogi_prawe, kolor):\n",
    "        self.nogi_lewe = nogi_lewe\n",
    "        self.nogi_prawe = nogi_prawe\n",
    "        self.kolor = kolor\n",
    "        \n",
    "    def ile_nóg(self):\n",
    "        return nogi_lewe + nogi_prawe\n",
    "    \n",
    "    def pochodna(self):\n",
    "        return nogi_lewe*5\n",
    "    \n",
    "    def kolor(self):\n",
    "        return kolor\n",
    "    "
   ]
  },
  {
   "cell_type": "code",
   "execution_count": 6,
   "metadata": {},
   "outputs": [
    {
     "ename": "TypeError",
     "evalue": "stonoga() takes no arguments",
     "output_type": "error",
     "traceback": [
      "\u001b[0;31m---------------------------------------------------------------------------\u001b[0m",
      "\u001b[0;31mTypeError\u001b[0m                                 Traceback (most recent call last)",
      "\u001b[0;32m<ipython-input-6-120eb5af8eb8>\u001b[0m in \u001b[0;36m<module>\u001b[0;34m\u001b[0m\n\u001b[0;32m----> 1\u001b[0;31m \u001b[0mbronia\u001b[0m \u001b[0;34m=\u001b[0m \u001b[0mstonoga\u001b[0m\u001b[0;34m(\u001b[0m\u001b[0;36m15\u001b[0m\u001b[0;34m,\u001b[0m\u001b[0;36m14\u001b[0m\u001b[0;34m,\u001b[0m \u001b[0;34m\"czerwona\"\u001b[0m\u001b[0;34m)\u001b[0m\u001b[0;34m\u001b[0m\u001b[0;34m\u001b[0m\u001b[0m\n\u001b[0m",
      "\u001b[0;31mTypeError\u001b[0m: stonoga() takes no arguments"
     ]
    }
   ],
   "source": [
    "bronia = stonoga(15,14, \"czerwona\")"
   ]
  },
  {
   "cell_type": "code",
   "execution_count": 7,
   "metadata": {},
   "outputs": [],
   "source": [
    "class stonoga(object):\n",
    "\n",
    "\n",
    "    def __init__(self, nogi_lewe,nogi_prawe, kolor):\n",
    "        self.nogi_lewe = nogi_lewe\n",
    "        self.nogi_prawe = nogi_prawe\n",
    "        self.kolor = kolor\n",
    "        \n",
    "    def ile_nóg(self):\n",
    "        return self.nogi_lewe + self.nogi_prawe\n",
    "    \n",
    "    def pochodna(self):\n",
    "        return self.nogi_lewe*5\n",
    "    \n",
    "    def kolor(self):\n",
    "        return self.kolor\n",
    "  "
   ]
  },
  {
   "cell_type": "code",
   "execution_count": 8,
   "metadata": {},
   "outputs": [],
   "source": [
    "benia = stonoga(15,16, \"czerwona\")"
   ]
  },
  {
   "cell_type": "code",
   "execution_count": 9,
   "metadata": {},
   "outputs": [
    {
     "name": "stdout",
     "output_type": "stream",
     "text": [
      "31\n",
      "75\n"
     ]
    }
   ],
   "source": [
    "print(benia.ile_nóg())\n",
    "print(benia.pochodna())\n"
   ]
  },
  {
   "cell_type": "code",
   "execution_count": null,
   "metadata": {},
   "outputs": [],
   "source": [
    "class samochód(object):\n",
    "    \n",
    "    def _init_"
   ]
  },
  {
   "cell_type": "code",
   "execution_count": null,
   "metadata": {},
   "outputs": [],
   "source": []
  },
  {
   "cell_type": "code",
   "execution_count": null,
   "metadata": {},
   "outputs": [],
   "source": []
  },
  {
   "cell_type": "code",
   "execution_count": null,
   "metadata": {},
   "outputs": [],
   "source": []
  },
  {
   "cell_type": "code",
   "execution_count": null,
   "metadata": {},
   "outputs": [],
   "source": []
  },
  {
   "cell_type": "code",
   "execution_count": null,
   "metadata": {},
   "outputs": [],
   "source": []
  }
 ],
 "metadata": {
  "kernelspec": {
   "display_name": "Python 3",
   "language": "python",
   "name": "python3"
  },
  "language_info": {
   "codemirror_mode": {
    "name": "ipython",
    "version": 3
   },
   "file_extension": ".py",
   "mimetype": "text/x-python",
   "name": "python",
   "nbconvert_exporter": "python",
   "pygments_lexer": "ipython3",
   "version": "3.7.4"
  }
 },
 "nbformat": 4,
 "nbformat_minor": 2
}
