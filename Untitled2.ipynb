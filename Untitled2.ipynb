{
 "cells": [
  {
   "cell_type": "markdown",
   "metadata": {},
   "source": [
    "## Definicja"
   ]
  },
  {
   "cell_type": "code",
   "execution_count": 12,
   "metadata": {},
   "outputs": [],
   "source": [
    "    def black(text):\n",
    "         print('\\033[30m', text, '\\033[0m', sep='')  \n",
    "\n",
    "    def red(text):\n",
    "         print('\\033[31m', text, '\\033[0m', sep='')  \n",
    "\n",
    "    def green(text):\n",
    "         print('\\033[32m', text, '\\033[0m', sep='')  \n",
    "\n",
    "    def yellow(text):\n",
    "         print('\\033[33m', text, '\\033[0m', sep='')  \n",
    "\n",
    "    def blue(text):\n",
    "         print('\\033[34m', text, '\\033[0m', sep='') \n",
    "\n",
    "    def magenta(text):\n",
    "         print('\\033[35m', text, '\\033[0m', sep='')  \n",
    "\n",
    "    def cyan(text):\n",
    "         print('\\033[36m', text, '\\033[0m', sep='')  \n",
    "\n",
    "    def gray(text):\n",
    "         print('\\033[90m', text, '\\033[0m', sep='')"
   ]
  },
  {
   "cell_type": "code",
   "execution_count": 9,
   "metadata": {},
   "outputs": [
    {
     "data": {
      "image/png": "[encoded data removed]",
      "text/plain": [
       "<Figure size 432x288 with 1 Axes>"
      ]
     },
     "metadata": {
      "needs_background": "light"
     },
     "output_type": "display_data"
    }
   ],
   "source": [
    "# generate related variables\n",
    "from numpy.random import rand\n",
    "from numpy.random import seed\n",
    "from matplotlib import pyplot\n",
    "\n",
    "\n",
    "# seed random number generator\n",
    "seed(1)\n",
    "# prepare data\n",
    "data1 = rand(1000) * 20\n",
    "data2 = data1 + (rand(1000) * 10)\n",
    "# plot\n",
    "pyplot.scatter(data1, data2, color='r')\n",
    "pyplot.show()"
   ]
  },
  {
   "cell_type": "markdown",
   "metadata": {},
   "source": [
    "# Korelacja rang Spearmana"
   ]
  },
  {
   "cell_type": "code",
   "execution_count": 16,
   "metadata": {},
   "outputs": [
    {
     "name": "stdout",
     "output_type": "stream",
     "text": [
      "\u001b[34mSpearmans correlation coefficient: 0.900\u001b[0m\n",
      "\u001b[31mSamples are correlated (reject H0) p=0.000\u001b[0m\n"
     ]
    }
   ],
   "source": [
    "from scipy.stats import spearmanr\n",
    "\n",
    "# calculate spearman's correlation\n",
    "coef, p = spearmanr(data1, data2)\n",
    "blue('Spearmans correlation coefficient: %.3f' % coef)\n",
    "# interpret the significance\n",
    "alpha = 0.05\n",
    "if p > alpha:\n",
    "\tgreen('Samples are uncorrelated (fail to reject H0) p=%.3f' % p)\n",
    "else:\n",
    "\tred('Samples are correlated (reject H0) p=%.3f' % p)"
   ]
  },
  {
   "cell_type": "markdown",
   "metadata": {},
   "source": [
    "H0: próbki data1 i data2 nie są nieskorelowane\n",
    "\n",
    "H1: próbki data1 i data2 nie są skorelowane"
   ]
  },
  {
   "cell_type": "markdown",
   "metadata": {},
   "source": [
    "Test statystyczny wykazuje silną korelację dodatnią o wartości 0,9. Wartość p jest bliska zeru, co oznacza, że ​​prawdopodobieństwo zaobserwowania danych, biorąc pod uwagę, że próbki są nieskorelowane, jest bardzo mało prawdopodobne (np. 95% ufności) i że możemy odrzucić hipotezę zerową, że próbki są nieskorelowane."
   ]
  },
  {
   "cell_type": "markdown",
   "metadata": {},
   "source": [
    "# Korelacja rang Kendalla"
   ]
  },
  {
   "cell_type": "markdown",
   "metadata": {},
   "source": [
    "H0: próbki data1 i data2 nie są nieskorelowane\n",
    "\n",
    "H1: próbki data1 i data2 nie są skorelowane"
   ]
  },
  {
   "cell_type": "code",
   "execution_count": 19,
   "metadata": {},
   "outputs": [
    {
     "name": "stdout",
     "output_type": "stream",
     "text": [
      "\u001b[34mKendall correlation coefficient: 0.709\u001b[0m\n",
      "\u001b[31mSamples are correlated (reject H0) p=0.000\u001b[0m\n"
     ]
    }
   ],
   "source": [
    "# calculate the kendall's correlation between two variables\n",
    "from numpy.random import rand\n",
    "from numpy.random import seed\n",
    "from scipy.stats import kendalltau\n",
    "# seed random number generator\n",
    "seed(1)\n",
    "# prepare data\n",
    "data1 = rand(1000) * 20\n",
    "data2 = data1 + (rand(1000) * 10)\n",
    "# calculate kendall's correlation\n",
    "coef, p = kendalltau(data1, data2)\n",
    "blue('Kendall correlation coefficient: %.3f' % coef)\n",
    "# interpret the significance\n",
    "alpha = 0.05\n",
    "if p > alpha:\n",
    "\tgreen('Samples are uncorrelated (fail to reject H0) p=%.3f' % p)\n",
    "else:\n",
    "\tred('Samples are correlated (reject H0) p=%.3f' % p)"
   ]
  },
  {
   "cell_type": "markdown",
   "metadata": {},
   "source": [
    "Uruchomienie tego przykładu oblicza współczynnik korelacji Kendalla jako 0,7, który jest silnie skorelowany.\n",
    "\n",
    "Wartość p jest bliska zeru (i drukowana jako zero), jak w przypadku testu Spearmana, co oznacza, że ​​możemy z pewnością odrzucić hipotezę zerową, że próbki są nieskorelowane."
   ]
  },
  {
   "cell_type": "code",
   "execution_count": null,
   "metadata": {},
   "outputs": [],
   "source": []
  },
  {
   "cell_type": "code",
   "execution_count": null,
   "metadata": {},
   "outputs": [],
   "source": []
  },
  {
   "cell_type": "code",
   "execution_count": null,
   "metadata": {},
   "outputs": [],
   "source": []
  },
  {
   "cell_type": "code",
   "execution_count": null,
   "metadata": {},
   "outputs": [],
   "source": []
  },
  {
   "cell_type": "code",
   "execution_count": null,
   "metadata": {},
   "outputs": [],
   "source": []
  }
 ],
 "metadata": {
  "kernelspec": {
   "display_name": "Python 3",
   "language": "python",
   "name": "python3"
  },
  "language_info": {
   "codemirror_mode": {
    "name": "ipython",
    "version": 3
   },
   "file_extension": ".py",
   "mimetype": "text/x-python",
   "name": "python",
   "nbconvert_exporter": "python",
   "pygments_lexer": "ipython3",
   "version": "3.7.4"
  }
 },
 "nbformat": 4,
 "nbformat_minor": 2
}
