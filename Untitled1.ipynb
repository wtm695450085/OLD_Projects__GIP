{
 "cells": [
  {
   "cell_type": "code",
   "execution_count": 6,
   "metadata": {
    "scrolled": true
   },
   "outputs": [
    {
     "data": {
      "text/plain": [
       "['/home/wojciech',\n",
       " '/home/wojciech/anaconda3/lib/python37.zip',\n",
       " '/home/wojciech/anaconda3/lib/python3.7',\n",
       " '/home/wojciech/anaconda3/lib/python3.7/lib-dynload',\n",
       " '',\n",
       " '/home/wojciech/anaconda3/lib/python3.7/site-packages',\n",
       " '/home/wojciech/anaconda3/lib/python3.7/site-packages/IPython/extensions',\n",
       " '/home/wojciech/.ipython']"
      ]
     },
     "execution_count": 6,
     "metadata": {},
     "output_type": "execute_result"
    }
   ],
   "source": [
    "import sys\n",
    "\n",
    "sys.path\n"
   ]
  },
  {
   "cell_type": "code",
   "execution_count": 7,
   "metadata": {},
   "outputs": [],
   "source": [
    "sys.path.append ('/home/wojciech/anaconda3/WTM_lib/')"
   ]
  },
  {
   "cell_type": "code",
   "execution_count": 8,
   "metadata": {},
   "outputs": [
    {
     "data": {
      "text/plain": [
       "['/home/wojciech',\n",
       " '/home/wojciech/anaconda3/lib/python37.zip',\n",
       " '/home/wojciech/anaconda3/lib/python3.7',\n",
       " '/home/wojciech/anaconda3/lib/python3.7/lib-dynload',\n",
       " '',\n",
       " '/home/wojciech/anaconda3/lib/python3.7/site-packages',\n",
       " '/home/wojciech/anaconda3/lib/python3.7/site-packages/IPython/extensions',\n",
       " '/home/wojciech/.ipython',\n",
       " '/home/wojciech/anaconda3/WTM_lib/']"
      ]
     },
     "execution_count": 8,
     "metadata": {},
     "output_type": "execute_result"
    }
   ],
   "source": [
    "sys.path"
   ]
  },
  {
   "cell_type": "code",
   "execution_count": 2,
   "metadata": {},
   "outputs": [
    {
     "name": "stdout",
     "output_type": "stream",
     "text": [
      "Collecting wtm_lib.py\n",
      "\u001b[31m  ERROR: Could not find a version that satisfies the requirement wtm_lib.py (from versions: none)\u001b[0m\n",
      "\u001b[31mERROR: No matching distribution found for wtm_lib.py\u001b[0m\n"
     ]
    }
   ],
   "source": [
    "import sys \n",
    "\n",
    "!{sys.executable} -m pip install wtm_lib.py"
   ]
  },
  {
   "cell_type": "code",
   "execution_count": 4,
   "metadata": {},
   "outputs": [
    {
     "name": "stdout",
     "output_type": "stream",
     "text": [
      "['/home/wojciech', '/home/wojciech/anaconda3/lib/python37.zip', '/home/wojciech/anaconda3/lib/python3.7', '/home/wojciech/anaconda3/lib/python3.7/lib-dynload', '', '/home/wojciech/anaconda3/lib/python3.7/site-packages', '/home/wojciech/anaconda3/lib/python3.7/site-packages/IPython/extensions', '/home/wojciech/.ipython']\n"
     ]
    }
   ],
   "source": [
    "import sys  \n",
    "print(sys.path)"
   ]
  },
  {
   "cell_type": "code",
   "execution_count": 5,
   "metadata": {},
   "outputs": [],
   "source": [
    "sys.path.append ('/home/wojciech/anaconda3/WTM_lib/')"
   ]
  },
  {
   "cell_type": "code",
   "execution_count": 1,
   "metadata": {},
   "outputs": [
    {
     "name": "stdout",
     "output_type": "stream",
     "text": [
      "['/home/wojciech', '/home/wojciech/anaconda3/lib/python37.zip', '/home/wojciech/anaconda3/lib/python3.7', '/home/wojciech/anaconda3/lib/python3.7/lib-dynload', '', '/home/wojciech/anaconda3/lib/python3.7/site-packages', '/home/wojciech/anaconda3/lib/python3.7/site-packages/IPython/extensions', '/home/wojciech/.ipython']\n"
     ]
    }
   ],
   "source": [
    "import sys  \n",
    "print(sys.path)"
   ]
  },
  {
   "cell_type": "code",
   "execution_count": null,
   "metadata": {},
   "outputs": [],
   "source": []
  },
  {
   "cell_type": "code",
   "execution_count": null,
   "metadata": {},
   "outputs": [],
   "source": []
  },
  {
   "cell_type": "code",
   "execution_count": null,
   "metadata": {},
   "outputs": [],
   "source": []
  },
  {
   "cell_type": "code",
   "execution_count": null,
   "metadata": {},
   "outputs": [],
   "source": []
  },
  {
   "cell_type": "code",
   "execution_count": null,
   "metadata": {},
   "outputs": [],
   "source": []
  },
  {
   "cell_type": "code",
   "execution_count": null,
   "metadata": {},
   "outputs": [],
   "source": []
  },
  {
   "cell_type": "code",
   "execution_count": null,
   "metadata": {},
   "outputs": [],
   "source": []
  },
  {
   "cell_type": "code",
   "execution_count": null,
   "metadata": {},
   "outputs": [],
   "source": []
  }
 ],
 "metadata": {
  "kernelspec": {
   "display_name": "Python 3",
   "language": "python",
   "name": "python3"
  },
  "language_info": {
   "codemirror_mode": {
    "name": "ipython",
    "version": 3
   },
   "file_extension": ".py",
   "mimetype": "text/x-python",
   "name": "python",
   "nbconvert_exporter": "python",
   "pygments_lexer": "ipython3",
   "version": "3.7.4"
  }
 },
 "nbformat": 4,
 "nbformat_minor": 2
}
