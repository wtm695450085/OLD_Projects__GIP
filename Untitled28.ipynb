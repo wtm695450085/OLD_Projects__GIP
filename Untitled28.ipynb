{
 "cells": [
  {
   "cell_type": "code",
   "execution_count": 6,
   "metadata": {},
   "outputs": [
    {
     "name": "stdout",
     "output_type": "stream",
     "text": [
      "Optimal\n",
      "4.0\n",
      "20.0\n",
      "0.0\n",
      "10.0\n",
      "0.0\n",
      "0.0\n",
      "Total Costs =  21.2\n"
     ]
    }
   ],
   "source": [
    "from pulp import *\n",
    "\n",
    "# INSTANCE\n",
    "EDGES = [ (0,10), (0,20), (0,50), (0,30), (0,10), (0,40) ] # lower/upper flow\n",
    "COSTS = [0.3, 0.7, 0.2, 0.6, 0.2, 0.5]\n",
    "D1, D2 = [24, 10]\n",
    "\n",
    "# MODEL\n",
    "prob = LpProblem(\"Problem\",LpMaximize)\n",
    "# VARS\n",
    "x11, x12, x13 = LpVariable(\"x11\", *EDGES[0]), LpVariable(\"x12\", *EDGES[1]), LpVariable(\"x13\", *EDGES[2])\n",
    "x21, x22, x23 = LpVariable(\"x21\", *EDGES[3]), LpVariable(\"x22\", *EDGES[4]), LpVariable(\"x23\", *EDGES[5])\n",
    "# OBJECTIVE FUNCTION -> added before constraints => important ,\n",
    "prob += lpDot(COSTS, [x11,x12,x13,x21,x22,x23]), \"Costs\"\n",
    "# CONSTRAINTS\n",
    "prob += x11 + x12 + x13 == D1\n",
    "prob += x21 + x22 + x23 == D2\n",
    "\n",
    "# SOLVE\n",
    "status = prob.solve()\n",
    "\n",
    "# PRINT SOLUTION\n",
    "print(LpStatus[status])\n",
    "for var in [x11,x12,x13]:\n",
    "    print(value(var))\n",
    "print\n",
    "for var in [x21,x22,x23]:\n",
    "    print(value(var))\n",
    "print(\"Total Costs = \", value(prob.objective))"
   ]
  },
  {
   "cell_type": "code",
   "execution_count": 5,
   "metadata": {},
   "outputs": [
    {
     "name": "stdout",
     "output_type": "stream",
     "text": [
      "Collecting pulp\n",
      "\u001b[?25l  Downloading https://files.pythonhosted.org/packages/41/34/757c88c320f80ce602199603afe63aed1e0bc11180b9a9fb6018fb2ce7ef/PuLP-2.1-py3-none-any.whl (40.6MB)\n",
      "\u001b[K     |████████████████████████████████| 40.6MB 1.8MB/s eta 0:00:01\n",
      "\u001b[?25hRequirement already satisfied: pyparsing>=2.0.1 in ./anaconda3/lib/python3.7/site-packages (from pulp) (2.4.2)\n",
      "Installing collected packages: pulp\n",
      "Successfully installed pulp-2.1\n"
     ]
    }
   ],
   "source": [
    "!pip install pulp\n"
   ]
  }
 ],
 "metadata": {
  "kernelspec": {
   "display_name": "Python 3",
   "language": "python",
   "name": "python3"
  },
  "language_info": {
   "codemirror_mode": {
    "name": "ipython",
    "version": 3
   },
   "file_extension": ".py",
   "mimetype": "text/x-python",
   "name": "python",
   "nbconvert_exporter": "python",
   "pygments_lexer": "ipython3",
   "version": "3.7.4"
  }
 },
 "nbformat": 4,
 "nbformat_minor": 2
}
